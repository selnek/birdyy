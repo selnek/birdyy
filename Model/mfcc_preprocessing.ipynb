{
 "cells": [
  {
   "cell_type": "code",
   "execution_count": null,
   "id": "13a652df-5a80-48a8-9d60-3fe926b8378a",
   "metadata": {},
   "outputs": [],
   "source": [
    "import os\n",
    "import librosa\n",
    "import math\n",
    "import json\n",
    "\n",
    "DATASET_PATH = \"dataset_birdyy\"\n",
    "JSON_PATH = \"birdyy.json\"\n",
    "SAMPLE_RATE = 44100\n",
    "DURATION = 5\n",
    "SAMPLES_PER_TRACK = SAMPLE_RATE * DURATION\n",
    "\n",
    "def mfcc_transformation(dataset_path, json_path, n_mfcc=13, n_fft=2048, hop_length=1024, num_segments=10):\n",
    "    \n",
    "    # slovník na ulozenie dat \n",
    "    data = {\n",
    "        \"mapping\" : [],\n",
    "        \"mfcc\" : [],\n",
    "        \"labels\" : []\n",
    "    }\n",
    "    \n",
    "    num_samples_per_segment = int(SAMPLES_PER_TRACK / num_segments)\n",
    "    expected_num_mfcc_vectors_per_segment = math.ceil(num_samples_per_segment / hop_length)\n",
    "    \n",
    "    # prechod cez vsetky priecinky v trenovacom datasete\n",
    "    for i, (dirpath, dirnames, filenames) in enumerate(os.walk(dataset_path)):\n",
    "        \n",
    "        if dirpath is not dataset_path:\n",
    "            \n",
    "            # extrakcia kategorii a ich ulozenie do slovnika\n",
    "            dirpath_components = dirpath.split(\"/\")\n",
    "            semantic_label = dirpath_components[-1]\n",
    "            data[\"mapping\"].append(semantic_label)\n",
    "            print(\"\\nProcessing {}\".format(semantic_label))\n",
    "            \n",
    "            # spracovanie suborov jednotlivych kategorii\n",
    "            for f in filenames:\n",
    "                file_path = os.path.join(dirpath, f)\n",
    "                signal, sr = librosa.load(file_path, sr=SAMPLE_RATE)\n",
    "                \n",
    "                # mfcc transformacia segmentov a ulozenie hodnot do slovnika\n",
    "                for s in range(num_segments):\n",
    "                    start_sample = num_samples_per_segment * s\n",
    "                    finish_sample = start_sample + num_samples_per_segment\n",
    "                    \n",
    "                    mfcc = librosa.feature.mfcc(y=signal[start_sample:finish_sample], \n",
    "                                                sr=SAMPLE_RATE, \n",
    "                                                n_fft=n_fft, \n",
    "                                                n_mfcc=n_mfcc, \n",
    "                                                hop_length=hop_length)\n",
    "                    mfcc = mfcc.T\n",
    "                    \n",
    "                    if len(mfcc) == expected_num_mfcc_vectors_per_segment:\n",
    "                        data[\"mfcc\"].append(mfcc.tolist())\n",
    "                        data[\"labels\"].append(i-1)\n",
    "                        print(\"{}, segment:{}\".format(file_path,s))\n",
    "    \n",
    "    # ulozenie dat vo formate json\n",
    "    with open(json_path, \"w\") as fp:\n",
    "        json.dump(data, fp, indent=4)"
   ]
  },
  {
   "cell_type": "code",
   "execution_count": null,
   "id": "d6d35731-53fc-4372-a20f-288a9e4503a8",
   "metadata": {},
   "outputs": [],
   "source": [
    "mfcc_transformation(DATASET_PATH, JSON_PATH)"
   ]
  }
 ],
 "metadata": {
  "kernelspec": {
   "display_name": "Python 3 (ipykernel)",
   "language": "python",
   "name": "python3"
  },
  "language_info": {
   "codemirror_mode": {
    "name": "ipython",
    "version": 3
   },
   "file_extension": ".py",
   "mimetype": "text/x-python",
   "name": "python",
   "nbconvert_exporter": "python",
   "pygments_lexer": "ipython3",
   "version": "3.9.7"
  }
 },
 "nbformat": 4,
 "nbformat_minor": 5
}
